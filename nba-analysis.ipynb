{
 "cells": [
  {
   "cell_type": "code",
   "execution_count": 34,
   "metadata": {
    "collapsed": true
   },
   "outputs": [],
   "source": [
    "import numpy as np\n",
    "import pandas as pd\n",
    "import csv\n",
    "import re"
   ]
  },
  {
   "cell_type": "code",
   "execution_count": 9,
   "metadata": {},
   "outputs": [],
   "source": [
    "rawdata = pd.read_csv('raw_data/training_set_no_time.csv', encoding = \"ISO-8859-1\")"
   ]
  },
  {
   "cell_type": "code",
   "execution_count": 53,
   "metadata": {},
   "outputs": [
    {
     "data": {
      "text/html": [
       "<div>\n",
       "<style>\n",
       "    .dataframe thead tr:only-child th {\n",
       "        text-align: right;\n",
       "    }\n",
       "\n",
       "    .dataframe thead th {\n",
       "        text-align: left;\n",
       "    }\n",
       "\n",
       "    .dataframe tbody tr th {\n",
       "        vertical-align: top;\n",
       "    }\n",
       "</style>\n",
       "<table border=\"1\" class=\"dataframe\">\n",
       "  <thead>\n",
       "    <tr style=\"text-align: right;\">\n",
       "      <th></th>\n",
       "      <th>Engagements</th>\n",
       "      <th>Followers at Posting</th>\n",
       "      <th>Type</th>\n",
       "      <th>Description</th>\n",
       "      <th>len_text</th>\n",
       "      <th>word_ct</th>\n",
       "      <th>excl_ct</th>\n",
       "      <th>ques_ct</th>\n",
       "      <th>period_ct</th>\n",
       "      <th>comma_ct</th>\n",
       "      <th>caps_ct</th>\n",
       "      <th>tags_ct</th>\n",
       "      <th>player</th>\n",
       "    </tr>\n",
       "  </thead>\n",
       "  <tbody>\n",
       "    <tr>\n",
       "      <th>0</th>\n",
       "      <td>502093</td>\n",
       "      <td>36984682</td>\n",
       "      <td>Video</td>\n",
       "      <td>The @raptors bench trio of @sergeibaka @norman...</td>\n",
       "      <td>95</td>\n",
       "      <td>14</td>\n",
       "      <td>1</td>\n",
       "      <td>0</td>\n",
       "      <td>0</td>\n",
       "      <td>0</td>\n",
       "      <td>2</td>\n",
       "      <td>4</td>\n",
       "      <td>&lt;filter object at 0x000001D3BD1100F0&gt;</td>\n",
       "    </tr>\n",
       "    <tr>\n",
       "      <th>1</th>\n",
       "      <td>603380</td>\n",
       "      <td>36984682</td>\n",
       "      <td>Video</td>\n",
       "      <td>@kyle_lowry7 pulls from deep for the @raptors ...</td>\n",
       "      <td>64</td>\n",
       "      <td>11</td>\n",
       "      <td>1</td>\n",
       "      <td>0</td>\n",
       "      <td>0</td>\n",
       "      <td>0</td>\n",
       "      <td>3</td>\n",
       "      <td>2</td>\n",
       "      <td>&lt;filter object at 0x000001D3BD110048&gt;</td>\n",
       "    </tr>\n",
       "    <tr>\n",
       "      <th>2</th>\n",
       "      <td>603380</td>\n",
       "      <td>36984682</td>\n",
       "      <td>Video</td>\n",
       "      <td>@k_mid22 with some english on the @bucks dime!</td>\n",
       "      <td>46</td>\n",
       "      <td>7</td>\n",
       "      <td>1</td>\n",
       "      <td>0</td>\n",
       "      <td>0</td>\n",
       "      <td>0</td>\n",
       "      <td>0</td>\n",
       "      <td>2</td>\n",
       "      <td>&lt;filter object at 0x000001D3BD110668&gt;</td>\n",
       "    </tr>\n",
       "    <tr>\n",
       "      <th>3</th>\n",
       "      <td>725100</td>\n",
       "      <td>36984682</td>\n",
       "      <td>Video</td>\n",
       "      <td>Kawhi punches it home with the left on TNT!</td>\n",
       "      <td>43</td>\n",
       "      <td>8</td>\n",
       "      <td>1</td>\n",
       "      <td>0</td>\n",
       "      <td>0</td>\n",
       "      <td>0</td>\n",
       "      <td>4</td>\n",
       "      <td>0</td>\n",
       "      <td>&lt;filter object at 0x000001D3BD1108D0&gt;</td>\n",
       "    </tr>\n",
       "    <tr>\n",
       "      <th>4</th>\n",
       "      <td>661446</td>\n",
       "      <td>36984682</td>\n",
       "      <td>Video</td>\n",
       "      <td>@giannis_an34 goes baseline early to rock the ...</td>\n",
       "      <td>57</td>\n",
       "      <td>9</td>\n",
       "      <td>1</td>\n",
       "      <td>0</td>\n",
       "      <td>0</td>\n",
       "      <td>0</td>\n",
       "      <td>3</td>\n",
       "      <td>1</td>\n",
       "      <td>&lt;filter object at 0x000001D3BD110B00&gt;</td>\n",
       "    </tr>\n",
       "  </tbody>\n",
       "</table>\n",
       "</div>"
      ],
      "text/plain": [
       "   Engagements  Followers at Posting   Type  \\\n",
       "0       502093              36984682  Video   \n",
       "1       603380              36984682  Video   \n",
       "2       603380              36984682  Video   \n",
       "3       725100              36984682  Video   \n",
       "4       661446              36984682  Video   \n",
       "\n",
       "                                         Description  len_text  word_ct  \\\n",
       "0  The @raptors bench trio of @sergeibaka @norman...        95       14   \n",
       "1  @kyle_lowry7 pulls from deep for the @raptors ...        64       11   \n",
       "2     @k_mid22 with some english on the @bucks dime!        46        7   \n",
       "3        Kawhi punches it home with the left on TNT!        43        8   \n",
       "4  @giannis_an34 goes baseline early to rock the ...        57        9   \n",
       "\n",
       "   excl_ct  ques_ct  period_ct  comma_ct  caps_ct  tags_ct  \\\n",
       "0        1        0          0         0        2        4   \n",
       "1        1        0          0         0        3        2   \n",
       "2        1        0          0         0        0        2   \n",
       "3        1        0          0         0        4        0   \n",
       "4        1        0          0         0        3        1   \n",
       "\n",
       "                                  player  \n",
       "0  <filter object at 0x000001D3BD1100F0>  \n",
       "1  <filter object at 0x000001D3BD110048>  \n",
       "2  <filter object at 0x000001D3BD110668>  \n",
       "3  <filter object at 0x000001D3BD1108D0>  \n",
       "4  <filter object at 0x000001D3BD110B00>  "
      ]
     },
     "execution_count": 53,
     "metadata": {},
     "output_type": "execute_result"
    }
   ],
   "source": [
    "rawdata.head()"
   ]
  },
  {
   "cell_type": "code",
   "execution_count": 26,
   "metadata": {
    "collapsed": true
   },
   "outputs": [],
   "source": [
    "rawdata['len_text'] = list(map(lambda x: len(str(x)), rawdata['Description']))"
   ]
  },
  {
   "cell_type": "code",
   "execution_count": 28,
   "metadata": {
    "collapsed": true
   },
   "outputs": [],
   "source": [
    "rawdata['word_ct'] = list(map(lambda x: str(x).count(' '), rawdata['Description']))"
   ]
  },
  {
   "cell_type": "code",
   "execution_count": 29,
   "metadata": {},
   "outputs": [],
   "source": [
    "rawdata['excl_ct'] = list(map(lambda x: str(x).count('!'), rawdata['Description']))"
   ]
  },
  {
   "cell_type": "code",
   "execution_count": 30,
   "metadata": {
    "collapsed": true
   },
   "outputs": [],
   "source": [
    "rawdata['ques_ct'] = list(map(lambda x: str(x).count('??'), rawdata['Description']))"
   ]
  },
  {
   "cell_type": "code",
   "execution_count": 31,
   "metadata": {
    "collapsed": true
   },
   "outputs": [],
   "source": [
    "rawdata['period_ct'] = list(map(lambda x: str(x).count('.'), rawdata['Description']))"
   ]
  },
  {
   "cell_type": "code",
   "execution_count": 32,
   "metadata": {
    "collapsed": true
   },
   "outputs": [],
   "source": [
    "rawdata['comma_ct'] = list(map(lambda x: str(x).count(','), rawdata['Description']))"
   ]
  },
  {
   "cell_type": "code",
   "execution_count": 38,
   "metadata": {},
   "outputs": [],
   "source": [
    "rawdata['caps_ct'] = list(map(lambda x: len(re.findall(r'[A-Z]', str(x))), rawdata['Description']))"
   ]
  },
  {
   "cell_type": "code",
   "execution_count": 40,
   "metadata": {
    "collapsed": true
   },
   "outputs": [],
   "source": [
    "rawdata['tags_ct'] = list(map(lambda x: str(x).count('@'), rawdata['Description']))"
   ]
  },
  {
   "cell_type": "code",
   "execution_count": 51,
   "metadata": {
    "collapsed": true
   },
   "outputs": [],
   "source": [
    "def hasTag(y):\n",
    "    if y[0] == '@':\n",
    "        return True\n",
    "    else:\n",
    "        return False"
   ]
  },
  {
   "cell_type": "code",
   "execution_count": 71,
   "metadata": {},
   "outputs": [
    {
     "ename": "AttributeError",
     "evalue": "'list' object has no attribute 'strip'",
     "output_type": "error",
     "traceback": [
      "\u001b[1;31m---------------------------------------------------------------------------\u001b[0m",
      "\u001b[1;31mAttributeError\u001b[0m                            Traceback (most recent call last)",
      "\u001b[1;32m<ipython-input-71-f8f311021ec1>\u001b[0m in \u001b[0;36m<module>\u001b[1;34m()\u001b[0m\n\u001b[1;32m----> 1\u001b[1;33m \u001b[0mrawdata\u001b[0m\u001b[1;33m[\u001b[0m\u001b[1;34m'player'\u001b[0m\u001b[1;33m]\u001b[0m \u001b[1;33m=\u001b[0m \u001b[0mlist\u001b[0m\u001b[1;33m(\u001b[0m\u001b[0mmap\u001b[0m\u001b[1;33m(\u001b[0m\u001b[1;32mlambda\u001b[0m \u001b[0mx\u001b[0m\u001b[1;33m:\u001b[0m \u001b[0mlist\u001b[0m\u001b[1;33m(\u001b[0m\u001b[0mfilter\u001b[0m\u001b[1;33m(\u001b[0m\u001b[1;32mlambda\u001b[0m \u001b[0my\u001b[0m\u001b[1;33m:\u001b[0m \u001b[0mhasTag\u001b[0m\u001b[1;33m(\u001b[0m\u001b[0my\u001b[0m\u001b[1;33m)\u001b[0m\u001b[1;33m,\u001b[0m \u001b[0mstr\u001b[0m\u001b[1;33m(\u001b[0m\u001b[0mx\u001b[0m\u001b[1;33m)\u001b[0m\u001b[1;33m.\u001b[0m\u001b[0msplit\u001b[0m\u001b[1;33m(\u001b[0m\u001b[1;33m)\u001b[0m\u001b[1;33m.\u001b[0m\u001b[0mstrip\u001b[0m\u001b[1;33m(\u001b[0m\u001b[1;33m)\u001b[0m\u001b[1;33m)\u001b[0m\u001b[1;33m)\u001b[0m\u001b[1;33m,\u001b[0m \u001b[0mrawdata\u001b[0m\u001b[1;33m[\u001b[0m\u001b[1;34m'Description'\u001b[0m\u001b[1;33m]\u001b[0m\u001b[1;33m)\u001b[0m\u001b[1;33m)\u001b[0m\u001b[1;33m\u001b[0m\u001b[0m\n\u001b[0m",
      "\u001b[1;32m<ipython-input-71-f8f311021ec1>\u001b[0m in \u001b[0;36m<lambda>\u001b[1;34m(x)\u001b[0m\n\u001b[1;32m----> 1\u001b[1;33m \u001b[0mrawdata\u001b[0m\u001b[1;33m[\u001b[0m\u001b[1;34m'player'\u001b[0m\u001b[1;33m]\u001b[0m \u001b[1;33m=\u001b[0m \u001b[0mlist\u001b[0m\u001b[1;33m(\u001b[0m\u001b[0mmap\u001b[0m\u001b[1;33m(\u001b[0m\u001b[1;32mlambda\u001b[0m \u001b[0mx\u001b[0m\u001b[1;33m:\u001b[0m \u001b[0mlist\u001b[0m\u001b[1;33m(\u001b[0m\u001b[0mfilter\u001b[0m\u001b[1;33m(\u001b[0m\u001b[1;32mlambda\u001b[0m \u001b[0my\u001b[0m\u001b[1;33m:\u001b[0m \u001b[0mhasTag\u001b[0m\u001b[1;33m(\u001b[0m\u001b[0my\u001b[0m\u001b[1;33m)\u001b[0m\u001b[1;33m,\u001b[0m \u001b[0mstr\u001b[0m\u001b[1;33m(\u001b[0m\u001b[0mx\u001b[0m\u001b[1;33m)\u001b[0m\u001b[1;33m.\u001b[0m\u001b[0msplit\u001b[0m\u001b[1;33m(\u001b[0m\u001b[1;33m)\u001b[0m\u001b[1;33m.\u001b[0m\u001b[0mstrip\u001b[0m\u001b[1;33m(\u001b[0m\u001b[1;33m)\u001b[0m\u001b[1;33m)\u001b[0m\u001b[1;33m)\u001b[0m\u001b[1;33m,\u001b[0m \u001b[0mrawdata\u001b[0m\u001b[1;33m[\u001b[0m\u001b[1;34m'Description'\u001b[0m\u001b[1;33m]\u001b[0m\u001b[1;33m)\u001b[0m\u001b[1;33m)\u001b[0m\u001b[1;33m\u001b[0m\u001b[0m\n\u001b[0m",
      "\u001b[1;31mAttributeError\u001b[0m: 'list' object has no attribute 'strip'"
     ]
    }
   ],
   "source": [
    "rawdata['player'] = list(map(lambda x: list(filter(lambda y: hasTag(y), str(x).split())), rawdata['Description']))"
   ]
  },
  {
   "cell_type": "code",
   "execution_count": 77,
   "metadata": {},
   "outputs": [],
   "source": [
    "rawdata['player'] = list(map(lambda x: list(map(lambda y: y.strip(',.-_!?/><()&'), x)), rawdata['player']))"
   ]
  },
  {
   "cell_type": "code",
   "execution_count": 75,
   "metadata": {},
   "outputs": [
    {
     "data": {
      "text/plain": [
       "0       [@raptors, @sergeibaka, @normanpowell4, @fredv...\n",
       "1                                [@kyle_lowry7, @raptors]\n",
       "2                                      [@k_mid22, @bucks]\n",
       "3                                                      []\n",
       "4                                         [@giannis_an34]\n",
       "5                               [@lukadoncic, @traeyoung]\n",
       "6                                             [@warriors]\n",
       "7                                      [@bucks, @raptors]\n",
       "8                                  [@warriors, @nbastore]\n",
       "9                          [@stephencurry30, @nbahistory]\n",
       "10                       [@stephencurry30, @money23green]\n",
       "11                             [@warriors, @trailblazers]\n",
       "12                             [@money23green, @warriors]\n",
       "13                                            [@warriors]\n",
       "14                             [@money23green, @warriors]\n",
       "15          [@stephencurry30, @money23green, @nbahistory]\n",
       "16                                     [@meyersleonard11]\n",
       "17                             [@money23green, @warriors]\n",
       "18                                      [@stephencurry30]\n",
       "19                           [@stephencurry30, @warriors]\n",
       "20                        [@damianlillard, @trailblazers]\n",
       "21                      [@meyersleonard11, @trailblazers]\n",
       "22                                      [@stephencurry30]\n",
       "23                                        [@money23green]\n",
       "24      [@budweiserusa, @trailblazers, @trailblazers, ...\n",
       "25      [@money23green, @warriors, @trailblazers, @nba...\n",
       "26                 [@trailblazers, @warriors, @nbaonespn]\n",
       "27                                             [@raptors]\n",
       "28                             [@raptors, @kristenledlow]\n",
       "29                                             [@raptors]\n",
       "                              ...                        \n",
       "7736                                                   []\n",
       "7737                                                   []\n",
       "7738                              [@cp3, @houstonrockets]\n",
       "7739                                [@kporzee, @nyknicks]\n",
       "7740             [@carmeloanthony, @ygtrece, @okcthunder]\n",
       "7741                                                   []\n",
       "7742                                             [@nbatv]\n",
       "7743                              [@realtristan13, @cavs]\n",
       "7744                                      [@isaiahthomas]\n",
       "7745                                              [@cavs]\n",
       "7746                     [@kingjames, @dwyanewade, @cavs]\n",
       "7747                            [@kingjames, @dwyanewade]\n",
       "7748                                [@kuzmakyle, @lakers]\n",
       "7749                                                   []\n",
       "7750                              [@jordanclarksons, @zo]\n",
       "7751                 [@utahjazz, @ruuufio, @rudygobert27]\n",
       "7752                                          [@desmith4]\n",
       "7753                                                   []\n",
       "7754                                       [@kyrieirving]\n",
       "7755         [@gdhayward, @kyrieirving, @celtics, @nbatv]\n",
       "7756                                          [@warriors]\n",
       "7757                                                   []\n",
       "7758             [@kyle_lowry7, @demar_derozan, @raptors]\n",
       "7759                                     [@minnesotalynx]\n",
       "7760    [@laclippers, @milosteodosic4, @danilogallogal...\n",
       "7761                                          [@warriors]\n",
       "7762                  [@minnesotalynx, @la_sparks, @wnba]\n",
       "7763                                                   []\n",
       "7764    [@timberwolves, @jimmybutler, @jeffteague, @ta...\n",
       "7765                                       [@zo, @lakers]\n",
       "Name: player, Length: 7766, dtype: object"
      ]
     },
     "execution_count": 75,
     "metadata": {},
     "output_type": "execute_result"
    }
   ],
   "source": [
    "rawdata['player']"
   ]
  },
  {
   "cell_type": "code",
   "execution_count": 48,
   "metadata": {},
   "outputs": [
    {
     "data": {
      "image/png": "[encoded data removed]",
      "text/plain": [
       "<matplotlib.figure.Figure at 0x1d3bc740630>"
      ]
     },
     "metadata": {},
     "output_type": "display_data"
    }
   ],
   "source": [
    "import matplotlib.pyplot as plt\n",
    "plt.scatter(rawdata['word_ct'], rawdata['len_text'])\n",
    "plt.show()"
   ]
  },
  {
   "cell_type": "code",
   "execution_count": 24,
   "metadata": {},
   "outputs": [
    {
     "data": {
      "text/plain": [
       "0       The @raptors bench trio of @sergeibaka @norman...\n",
       "1       @kyle_lowry7 pulls from deep for the @raptors ...\n",
       "2          @k_mid22 with some english on the @bucks dime!\n",
       "3             Kawhi punches it home with the left on TNT!\n",
       "4       @giannis_an34 goes baseline early to rock the ...\n",
       "5       Congrats to the 2018-19 NBA All-Rookie First T...\n",
       "6       The @warriors locked in for four games to adva...\n",
       "7       Will the @bucks take a commanding 3-1 lead... ...\n",
       "8       TAP to SHOP the @warriors Western Conference C...\n",
       "9       Hey @stephencurry30... that was the first time...\n",
       "10      @stephencurry30 (37/13/11) & @money23green (18...\n",
       "11      The @warriors defeat @trailblazers 119-117 to ...\n",
       "12      @money23green (18/14/11) reacts to a 5th strai...\n",
       "13      The @warriors win the West & advance to their ...\n",
       "14      @money23green triple extends the @warriors lea...\n",
       "15      @stephencurry30 & @money23green become the fir...\n",
       "16                     ?? @meyersleonard11! ?? (??: ESPN)\n",
       "17      @money23green notches the triple-double for th...\n",
       "18      @stephencurry30 dime & hesi in the 4th on ESPN...\n",
       "19      @stephencurry30 notches the triple-double for ...\n",
       "20      @damianlillard uses his dribble into the @trai...\n",
       "21      @meyersleonard11 puts up 25 in the first half ...\n",
       "22            @stephencurry30 tosses it up early on ESPN!\n",
       "23      @money23green arrives for Game 4 of the Wester...\n",
       "24      In @budweiserusa #LegendaryMoments history.. w...\n",
       "25      @money23green showcases his ?? IQ on both ends...\n",
       "26      Its WIN or Go Home for the @trailblazers... a...\n",
       "27      The @raptors get on the board at home in the E...\n",
       "28      Kawhi on tonights gritty @raptors 2OT win wit...\n",
       "29      Kawhi Leonard scores 19 of his game-high 36 in...\n",
       "                              ...                        \n",
       "7736    Just like at home growing up... Justin x Jrue!...\n",
       "7737                        Back in action! #NBAPreseason\n",
       "7738    @cp3 notches his first dime and points for the...\n",
       "7739       ?? @kporzee off the dribble for the @nyknicks!\n",
       "7740    @carmeloanthony & @ygtrece get on the board fo...\n",
       "7741                             They got NEXT. #NBARooks\n",
       "7742     Tonights #NBAPreseason on @nbatv tripleheader!!\n",
       "7743    @realtristan13 signs off from todays @cavs pr...\n",
       "7744               ???? @isaiahthomas ???? #CavsAllAccess\n",
       "7745                The @cavs get loose... #CavsAllAccess\n",
       "7746    @kingjames & @dwyanewade gets shots up ahead o...\n",
       "7747    Early in the gym with @kingjames & @dwyanewade...\n",
       "7748    @kuzmakyle puts up 23 in his second #NBAPresea...\n",
       "7749      My first bucket! #NBAPreseason #ThisIsWhyWePlay\n",
       "7750             @jordanclarksons ?? @zo ?? #NBAPreseason\n",
       "7751    New @utahjazz teammates @ruuufio & @rudygobert...\n",
       "7752                    @desmith4 got hops! #NBAPreseason\n",
       "7753                                                 ????\n",
       "7754    @kyrieirving shows off the bounce for Boston! ...\n",
       "7755    @gdhayward and @kyrieirving are introduced in ...\n",
       "7756    The @warriors have arrived in Shenzhen for the...\n",
       "7757                                                  NaN\n",
       "7758    @kyle_lowry7 and @demar_derozan combine for 28...\n",
       "7759    The @minnesotalynx force a Winner Takes All Ga...\n",
       "7760    New @laclippers connect as @milosteodosic4 fee...\n",
       "7761    16 days from #KiaTipOff17... we showcase the @...\n",
       "7762    The @minnesotalynx look to force a Game 5... w...\n",
       "7763         Its OCTOBER and ?? is back! \\n#NBAPreseason\n",
       "7764    The newest @timberwolves.... @jimmybutler, @je...\n",
       "7765    @zo puts up 8 assists, 7 rebounds & 5 points i...\n",
       "Name: Description, Length: 7766, dtype: object"
      ]
     },
     "execution_count": 24,
     "metadata": {},
     "output_type": "execute_result"
    }
   ],
   "source": [
    "rawdata['Description']"
   ]
  }
 ],
 "metadata": {
  "kernelspec": {
   "display_name": "Python 3",
   "language": "python",
   "name": "python3"
  },
  "language_info": {
   "codemirror_mode": {
    "name": "ipython",
    "version": 3
   },
   "file_extension": ".py",
   "mimetype": "text/x-python",
   "name": "python",
   "nbconvert_exporter": "python",
   "pygments_lexer": "ipython3",
   "version": "3.6.3"
  }
 },
 "nbformat": 4,
 "nbformat_minor": 2
}
